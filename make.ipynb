{
 "cells": [
  {
   "cell_type": "code",
   "execution_count": null,
   "metadata": {},
   "outputs": [],
   "source": [
    "def gugu(n):\n",
    "    result = []\n",
    "    result.append(n*1)\n",
    "    result.append(n*2)\n",
    "    result.append(n*3)\n",
    "    result.append(n*4)\n",
    "    result.append(n*5)\n",
    "    result.append(n*6)\n",
    "    result.append(n*7)\n",
    "    result.append(n*8)\n",
    "    result.append(n*9)\n",
    "    return result\n",
    "\n",
    "print(gugu(2))\n"
   ]
  },
  {
   "cell_type": "code",
   "execution_count": null,
   "metadata": {},
   "outputs": [],
   "source": [
    "def gugu(n):\n",
    "    result = []\n",
    "    result.append(n*1)\n",
    "    result.append(n*2)\n",
    "    result.append(n*3)\n",
    "    result.append(n*4)\n",
    "    result.append(n*5)\n",
    "    result.append(n*6)\n",
    "    result.append(n*7)\n",
    "    result.append(n*8)\n",
    "    result.append(n*9)\n",
    "    return result\n",
    "\n",
    "print(gugu(2))\n"
   ]
  },
  {
   "cell_type": "code",
   "execution_count": null,
   "metadata": {},
   "outputs": [],
   "source": [
    "# oswalk.py\n",
    "import os\n",
    "\n",
    "for (path, dir, files) in os.walk(\"/air15/\"):\n",
    "    for filename in files:\n",
    "        ext = os.path.splitext(filename)[-1]\n",
    "        if ext == '.py':\n",
    "            print(\"%s/%s\" % (path, filename))\n"
   ]
  },
  {
   "cell_type": "code",
   "execution_count": null,
   "metadata": {},
   "outputs": [],
   "source": [
    "# euc_kr.py\n",
    "# 1. euc-kr로 작성된 파일 읽기\n",
    "with open('euc_kr.txt', encoding='euc-kr') as f:\n",
    "    data = f.read()  # 유니코드 문자열\n",
    "\n",
    "# 2. unicode 문자열로 프로그램 수행하기\n",
    "data = data + \"\\n\" + \"추가 문자열\"\n",
    "\n",
    "# 3. euc-kr로 수정된 문자열 저장하기\n",
    "with open('euc_kr.txt', encoding='euc-kr', mode='w') as f:\n",
    "    f.write(data)\n"
   ]
  },
  {
   "cell_type": "code",
   "execution_count": null,
   "metadata": {},
   "outputs": [],
   "source": [
    "# closure.py\n",
    "class Mul:\n",
    "    def __init__(self, m):\n",
    "        self.m = m\n",
    "\n",
    "    def mul(self, n):\n",
    "        return self.m * n\n",
    "\n",
    "if __name__ == \"__main__\":\n",
    "    mul3 = Mul(3)\n",
    "    mul5 = Mul(5)\n",
    "\n",
    "    print(mul3.mul(10))  # 30 출력\n",
    "    print(mul5.mul(10))  # 50 출력\n",
    "\n",
    "\n",
    "# closure.py\n",
    "class Mul:\n",
    "    def __init__(self, m):\n",
    "        self.m = m\n",
    "\n",
    "    def __call__(self, n):\n",
    "        return self.m * n\n",
    "\n",
    "if __name__ == \"__main__\":\n",
    "    mul3 = Mul(3)\n",
    "    mul5 = Mul(5)\n",
    "\n",
    "    print(mul3(10))  # 30 출력\n",
    "    print(mul5(10))  # 50 출력\n"
   ]
  },
  {
   "cell_type": "code",
   "execution_count": null,
   "metadata": {},
   "outputs": [],
   "source": [
    "# wrapper.py\n",
    "def mul(m):\n",
    "    def wrapper(n):\n",
    "        return m * n\n",
    "    return wrapper\n",
    "\n",
    "if __name__ == \"__main__\":\n",
    "    mul3 = mul(3)\n",
    "    mul5 = mul(5)\n",
    "\n",
    "    print(mul3(10))  # 30 출력\n",
    "    print(mul5(10))  # 50 출력\n"
   ]
  },
  {
   "cell_type": "code",
   "execution_count": null,
   "metadata": {},
   "outputs": [],
   "source": [
    "import time\n",
    "\n",
    "def myfunc():\n",
    "    start = time.time()\n",
    "    print(\"함수가 실행됩니다.\")\n",
    "    end = time.time()\n",
    "    print(\"함수 수행시간: %f 초\" % (end-start))\n",
    "\n",
    "myfunc()\n"
   ]
  },
  {
   "cell_type": "code",
   "execution_count": null,
   "metadata": {},
   "outputs": [],
   "source": [
    "# decorator.py\n",
    "import time\n",
    "\n",
    "def elapsed(original_func):   # 기존 함수를 인수로 받는다.\n",
    "    def wrapper():          # 인수를 실행하고, 함수를 반환한다.\n",
    "        start = time.time()\n",
    "        result = original_func()    # 기존 함수를 수행한다.\n",
    "        end = time.time()\n",
    "        print(\"함수 수행시간: %f 초\" % (end - start))  # 기존 함수의 수행시간을 출력한다.\n",
    "        return result  # 기존 함수의 수행 결과를 리턴한다.\n",
    "    return wrapper\n",
    "\n",
    "def myfunc():\n",
    "    print(\"함수가 실행됩니다.\")\n",
    "\n",
    "decorated_myfunc = elapsed(myfunc)\n",
    "decorated_myfunc()\n"
   ]
  },
  {
   "cell_type": "code",
   "execution_count": null,
   "metadata": {},
   "outputs": [],
   "source": [
    "# decorator.py\n",
    "import time\n",
    "\n",
    "def elapsed(original_func):   # 기존 함수를 인수로 받는다.\n",
    "    def wrapper():\n",
    "        start = time.time()\n",
    "        result = original_func()    # 기존 함수를 수행한다.\n",
    "        end = time.time()\n",
    "        print(\"함수 수행시간: %f 초\" % (end - start))  # 기존 함수의 수행시간을 출력한다.\n",
    "        return result  # 기존 함수의 수행 결과를 리턴한다.\n",
    "    return wrapper\n",
    "\n",
    "@elapsed\n",
    "def myfunc():\n",
    "    print(\"함수가 실행됩니다.\")\n",
    "\n",
    "# decorated_myfunc = elapsed(myfunc)  # @elapsed 데코레이터로 인해 더이상 필요하지 않다.\n",
    "# decorated_myfunc()\n",
    "\n",
    "myfunc()\n"
   ]
  }
 ],
 "metadata": {
  "kernelspec": {
   "display_name": "Python 3",
   "language": "python",
   "name": "python3"
  },
  "language_info": {
   "codemirror_mode": {
    "name": "ipython",
    "version": 3
   },
   "file_extension": ".py",
   "mimetype": "text/x-python",
   "name": "python",
   "nbconvert_exporter": "python",
   "pygments_lexer": "ipython3",
   "version": "3.11.7"
  }
 },
 "nbformat": 4,
 "nbformat_minor": 2
}
