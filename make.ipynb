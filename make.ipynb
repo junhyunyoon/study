{
 "cells": [
  {
   "cell_type": "code",
   "execution_count": null,
   "metadata": {},
   "outputs": [],
   "source": [
    "def gugu(n):\n",
    "    result = []\n",
    "    result.append(n*1)\n",
    "    result.append(n*2)\n",
    "    result.append(n*3)\n",
    "    result.append(n*4)\n",
    "    result.append(n*5)\n",
    "    result.append(n*6)\n",
    "    result.append(n*7)\n",
    "    result.append(n*8)\n",
    "    result.append(n*9)\n",
    "    return result\n",
    "\n",
    "print(gugu(2))\n"
   ]
  },
  {
   "cell_type": "code",
   "execution_count": null,
   "metadata": {},
   "outputs": [],
   "source": [
    "def gugu(n):\n",
    "    result = []\n",
    "    result.append(n*1)\n",
    "    result.append(n*2)\n",
    "    result.append(n*3)\n",
    "    result.append(n*4)\n",
    "    result.append(n*5)\n",
    "    result.append(n*6)\n",
    "    result.append(n*7)\n",
    "    result.append(n*8)\n",
    "    result.append(n*9)\n",
    "    return result\n",
    "\n",
    "print(gugu(2))\n"
   ]
  },
  {
   "cell_type": "code",
   "execution_count": null,
   "metadata": {},
   "outputs": [],
   "source": [
    "# oswalk.py\n",
    "import os\n",
    "\n",
    "for (path, dir, files) in os.walk(\"/air15/\"):\n",
    "    for filename in files:\n",
    "        ext = os.path.splitext(filename)[-1]\n",
    "        if ext == '.py':\n",
    "            print(\"%s/%s\" % (path, filename))\n"
   ]
  },
  {
   "cell_type": "code",
   "execution_count": null,
   "metadata": {},
   "outputs": [],
   "source": [
    "# euc_kr.py\n",
    "# 1. euc-kr로 작성된 파일 읽기\n",
    "with open('euc_kr.txt', encoding='euc-kr') as f:\n",
    "    data = f.read()  # 유니코드 문자열\n",
    "\n",
    "# 2. unicode 문자열로 프로그램 수행하기\n",
    "data = data + \"\\n\" + \"추가 문자열\"\n",
    "\n",
    "# 3. euc-kr로 수정된 문자열 저장하기\n",
    "with open('euc_kr.txt', encoding='euc-kr', mode='w') as f:\n",
    "    f.write(data)\n"
   ]
  },
  {
   "cell_type": "code",
   "execution_count": null,
   "metadata": {},
   "outputs": [],
   "source": [
    "# closure.py\n",
    "class Mul:\n",
    "    def __init__(self, m):\n",
    "        self.m = m\n",
    "\n",
    "    def mul(self, n):\n",
    "        return self.m * n\n",
    "\n",
    "if __name__ == \"__main__\":\n",
    "    mul3 = Mul(3)\n",
    "    mul5 = Mul(5)\n",
    "\n",
    "    print(mul3.mul(10))  # 30 출력\n",
    "    print(mul5.mul(10))  # 50 출력\n",
    "\n",
    "\n",
    "# closure.py\n",
    "class Mul:\n",
    "    def __init__(self, m):\n",
    "        self.m = m\n",
    "\n",
    "    def __call__(self, n):\n",
    "        return self.m * n\n",
    "\n",
    "if __name__ == \"__main__\":\n",
    "    mul3 = Mul(3)\n",
    "    mul5 = Mul(5)\n",
    "\n",
    "    print(mul3(10))  # 30 출력\n",
    "    print(mul5(10))  # 50 출력\n"
   ]
  },
  {
   "cell_type": "code",
   "execution_count": null,
   "metadata": {},
   "outputs": [],
   "source": [
    "# wrapper.py\n",
    "def mul(m):\n",
    "    def wrapper(n):\n",
    "        return m * n\n",
    "    return wrapper\n",
    "\n",
    "if __name__ == \"__main__\":\n",
    "    mul3 = mul(3)\n",
    "    mul5 = mul(5)\n",
    "\n",
    "    print(mul3(10))  # 30 출력\n",
    "    print(mul5(10))  # 50 출력\n"
   ]
  },
  {
   "cell_type": "code",
   "execution_count": null,
   "metadata": {},
   "outputs": [],
   "source": [
    "import time\n",
    "\n",
    "def myfunc():\n",
    "    start = time.time()\n",
    "    print(\"함수가 실행됩니다.\")\n",
    "    end = time.time()\n",
    "    print(\"함수 수행시간: %f 초\" % (end-start))\n",
    "\n",
    "myfunc()\n"
   ]
  },
  {
   "cell_type": "code",
   "execution_count": null,
   "metadata": {},
   "outputs": [],
   "source": [
    "# decorator.py\n",
    "import time\n",
    "\n",
    "def elapsed(original_func):   # 기존 함수를 인수로 받는다.\n",
    "    def wrapper():          # 인수를 실행하고, 함수를 반환한다.\n",
    "        start = time.time()\n",
    "        result = original_func()    # 기존 함수를 수행한다.\n",
    "        end = time.time()\n",
    "        print(\"함수 수행시간: %f 초\" % (end - start))  # 기존 함수의 수행시간을 출력한다.\n",
    "        return result  # 기존 함수의 수행 결과를 리턴한다.\n",
    "    return wrapper\n",
    "\n",
    "def myfunc():\n",
    "    print(\"함수가 실행됩니다.\")\n",
    "\n",
    "decorated_myfunc = elapsed(myfunc)\n",
    "decorated_myfunc()\n"
   ]
  },
  {
   "cell_type": "code",
   "execution_count": null,
   "metadata": {},
   "outputs": [],
   "source": [
    "# decorator.py\n",
    "import time\n",
    "\n",
    "def elapsed(original_func):   # 기존 함수를 인수로 받는다.\n",
    "    def wrapper():\n",
    "        start = time.time()\n",
    "        result = original_func()    # 기존 함수를 수행한다.\n",
    "        end = time.time()\n",
    "        print(\"함수 수행시간: %f 초\" % (end - start))  # 기존 함수의 수행시간을 출력한다.\n",
    "        return result  # 기존 함수의 수행 결과를 리턴한다.\n",
    "    return wrapper\n",
    "\n",
    "@elapsed\n",
    "def myfunc():\n",
    "    print(\"함수가 실행됩니다.\")\n",
    "\n",
    "# decorated_myfunc = elapsed(myfunc)  # @elapsed 데코레이터로 인해 더이상 필요하지 않다.\n",
    "# decorated_myfunc()\n",
    "\n",
    "myfunc()\n"
   ]
  },
  {
   "cell_type": "code",
   "execution_count": 3,
   "metadata": {},
   "outputs": [
    {
     "name": "stdout",
     "output_type": "stream",
     "text": [
      "1\n",
      "2\n",
      "3\n"
     ]
    }
   ],
   "source": [
    "# iterator.py\n",
    "class MyItertor:\n",
    "    def __init__(self, data):\n",
    "        self.data = data\n",
    "        self.position = 0\n",
    "\n",
    "    def __iter__(self):\n",
    "        return self\n",
    "\n",
    "    def __next__(self):\n",
    "        if self.position >= len(self.data):\n",
    "            raise StopIteration\n",
    "        result = self.data[self.position]\n",
    "        self.position += 1\n",
    "        return result\n",
    "\n",
    "if __name__ == \"__main__\":\n",
    "    i = MyItertor([1,2,3])\n",
    "    for item in i:\n",
    "        print(item)\n"
   ]
  },
  {
   "cell_type": "markdown",
   "metadata": {},
   "source": [
    "MyIterator 클래스는 이터레이터 객체를 생성하기 위해 __iter__ 메서드와 __next__ 메서드를 구현했다. __iter__ 메서드와 __next__ 메서드는 생성자 __init__ 메서드와 마찬가지로 클래스에서 특별한 의미를 갖는 메서드이다.\n",
    "\n",
    "클래스에 __iter__ 메서드를 구현하면 해당 클래스로 생성한 객체는 반복 가능한 객체가 된다. __iter__ 메서드는 반복 가능한 객체를 리턴해야 하며 보통 클래스의 객체를 의미하는 self를 리턴한다. 그리고 클래스에 __iter__ 메서드를 구현할 경우 반드시 __next__ 함수를 구현해야 한다.\n",
    "\n",
    "__next__ 메서드는 반복 가능한 객체의 값을 차례대로 반환하는 역할을 한다. __next__ 메서드는 for 문을 수행하거나 next 함수 호출 시 수행되므로 MyIterator 객체를 생성할 때 전달한 data를 하나씩 리턴하고 더는 리턴할 값이 없으면 StopIteration 예외를 발생시키도록 구현했다."
   ]
  },
  {
   "cell_type": "code",
   "execution_count": 4,
   "metadata": {},
   "outputs": [
    {
     "name": "stdout",
     "output_type": "stream",
     "text": [
      "3\n",
      "2\n",
      "1\n"
     ]
    }
   ],
   "source": [
    "# reviterator.py\n",
    "class ReverseItertor:\n",
    "    def __init__(self, data):\n",
    "        self.data = data\n",
    "        self.position = len(self.data) -1\n",
    "\n",
    "    def __iter__(self):\n",
    "        return self\n",
    "\n",
    "    def __next__(self):\n",
    "        if self.position < 0:\n",
    "            raise StopIteration\n",
    "        result = self.data[self.position]\n",
    "        self.position -= 1\n",
    "        return result\n",
    "\n",
    "if __name__ == \"__main__\":\n",
    "    i = ReverseItertor([1,2,3])\n",
    "    for item in i:\n",
    "        print(item)\n"
   ]
  },
  {
   "cell_type": "code",
   "execution_count": 5,
   "metadata": {},
   "outputs": [
    {
     "name": "stdout",
     "output_type": "stream",
     "text": [
      "1\n",
      "4\n",
      "9\n"
     ]
    }
   ],
   "source": [
    "# generator.py\n",
    "def mygen():\n",
    "    for i in range(1, 1000):\n",
    "        result = i * i\n",
    "        yield result\n",
    "\n",
    "gen = mygen()\n",
    "\n",
    "print(next(gen))\n",
    "print(next(gen))\n",
    "print(next(gen))\n"
   ]
  },
  {
   "cell_type": "code",
   "execution_count": 6,
   "metadata": {},
   "outputs": [],
   "source": [
    "gen = (i * i for i in range(1, 1000))\n"
   ]
  },
  {
   "cell_type": "code",
   "execution_count": 7,
   "metadata": {},
   "outputs": [],
   "source": [
    "class MyIterator:\n",
    "    def __init__(self):\n",
    "        self.data = 1\n",
    "\n",
    "    def __iter__(self):\n",
    "        return self\n",
    "\n",
    "    def __next__(self):\n",
    "        result = self.data * self.data\n",
    "        self.data += 1\n",
    "        if self.data >= 1000:\n",
    "            raise StopIteration\n",
    "        return result\n"
   ]
  },
  {
   "cell_type": "markdown",
   "metadata": {},
   "source": [
    "지금까지 살펴본 제너레이터는 이터레이터와 서로 상당히 비슷하다는 것을 알 수 있다. 클래스를 이용해 이터레이터를 작성하면 좀 더 복잡한 행동을 구현할 수 있다. 이와 달리 제너레이터를 이용하면 간단하게 이터레이터를 만들 수 있다. 따라서 이터레이터의 성격에 따라 클래스로 만들 것인지, 제너레이터로 만들 것인지를 선택해야 한다.\n",
    "\n",
    "간단한 경우라면 제너레이터 함수나 제너레이터 표현식을 사용하는 것이 가독성이나 유지 보수 측면에서 유리하다. 다음은 (i * i for i in range(1, 1000)) 제너레이터를 이터레이터 클래스로 구현한 예이다."
   ]
  },
  {
   "cell_type": "code",
   "execution_count": 8,
   "metadata": {},
   "outputs": [
    {
     "name": "stdout",
     "output_type": "stream",
     "text": [
      "job start\n",
      "job start\n",
      "job start\n",
      "job start\n",
      "job start\n",
      "done\n"
     ]
    }
   ],
   "source": [
    "# generator2.py\n",
    "import time\n",
    "\n",
    "def longtime_job():\n",
    "    print(\"job start\")\n",
    "    time.sleep(1)  # 1초 지연\n",
    "    return \"done\"\n",
    "\n",
    "list_job = [longtime_job() for i in range(5)]\n",
    "print(list_job[0])\n"
   ]
  },
  {
   "cell_type": "code",
   "execution_count": 9,
   "metadata": {},
   "outputs": [
    {
     "name": "stdout",
     "output_type": "stream",
     "text": [
      "job start\n",
      "done\n"
     ]
    }
   ],
   "source": [
    "# generator2.py\n",
    "import time\n",
    "\n",
    "def longtime_job():\n",
    "    print(\"job start\")\n",
    "    time.sleep(1)\n",
    "    return \"done\"\n",
    "\n",
    "list_job = (longtime_job() for i in range(5))\n",
    "print(next(list_job))\n"
   ]
  },
  {
   "cell_type": "code",
   "execution_count": null,
   "metadata": {},
   "outputs": [],
   "source": [
    "a = 1\n",
    "type(a)\n",
    "<class 'int'>\n",
    "\n",
    "a = \"1\"\n",
    "type(a)\n",
    "<class 'str'>\n",
    "\n",
    "# 파이썬과 달리 자바는 정수형(int) 변수 a에 숫자 1을 대입하고 다시 문자열 \"1\"을 대입하려 할 때 컴파일 오류가 발생한다.\n",
    "\n",
    "int a = 1;  // a 변수를 int형으로 지정\n",
    "a = \"1\";  // a 변수에 문자열을 대입할 수 없으므로 컴파일 에러\n",
    "# 자바는 한 번 변수에 타입을 지정하면 지정한 타입 외에 다른 타입은 사용할 수 없으므로 정적 프로그래밍 언어(static programming language)라고 한다. 반면 프로그램 실행 중에 변수의 타입을 동적으로 바꿀 수 있으므로 파이썬을 동적 프로그래밍 언어(dynamic programming language)라고 한다."
   ]
  },
  {
   "cell_type": "markdown",
   "metadata": {},
   "source": [
    "동적 언어의 장단점\n",
    "파이썬과 같은 동적 언어는 타입에 자유로워 유연한 코딩이 가능하므로 쉽고 빠르게 프로그램을 만들 수 있다. 그리고 타입 체크를 위한 코드가 없으므로 비교적 깔끔한 소스 코드를 생성할 수 있다. 하지만 프로젝트의 규모가 커질수록 타입을 잘못 사용해 버그가 생길 확률도 높아진다.\n",
    "\n",
    "안전성을 선호하는 금융권 프로젝트에서는 이런 이유로 동적 언어보다는 정적 언어를 주요 언어로 선택하는 경향이 많다. 파이썬은 동적 언어의 단점을 극복하기 위해 3.5 버전부터 타입 어노테이션 기능을 지원하기 시작했다. 다만 정적 언어에서와 같은 적극적인 타입 체크가 아니라 타입 어노테이션(type annotation), 즉 타입에 대한 힌트를 알려 주는 정도의 기능만 지원한다. 동적 언어의 장점을 잃지 않고 기존에 작성된 코드와의 호환성을 생각하면 당연한 선택일 것이다.\n",
    "num: int = 1\n",
    "변수 이름 바로 뒤에 : int와 같이 사용해 num 변수가 int형이라는 것을 명시한다.\n",
    "def add(a: int, b: int) -> int: # > int처럼 사용해 함수의 리턴값도 타입을 명시할 수 있다.\n",
    "    return a+b\n"
   ]
  },
  {
   "cell_type": "code",
   "execution_count": 10,
   "metadata": {},
   "outputs": [
    {
     "name": "stdout",
     "output_type": "stream",
     "text": [
      "6.4\n"
     ]
    }
   ],
   "source": [
    "# c:/doit/typing_sample.py\n",
    "def add(a: int, b: int) -> int:\n",
    "    return a+b\n",
    "\n",
    "result = add(3, 3.4)\n",
    "print(result)  # 6.4 출력 add 함수의 b 매개변수는 int형이지만, 3.4와 같은 float형 데이터를 사용해도 이 코드는 문제 없이 돌아간다. 파이썬 타입 어노테이션은 체크가 아닌 힌트이기 때문이다.\n"
   ]
  },
  {
   "cell_type": "code",
   "execution_count": 11,
   "metadata": {},
   "outputs": [
    {
     "name": "stdout",
     "output_type": "stream",
     "text": [
      "7\n"
     ]
    }
   ],
   "source": [
    "# C:\\doit>mypy typing_sample.py\n",
    "#typing_sample.py:5: error: Argument 2 to \"add\" has incompatible type \"float\"; expected \"int\"\n",
    "#Found 1 error in 1 file (checked 1 source file)\n",
    "\n",
    "def add(a: int, b: int) -> int:\n",
    "    return a+b\n",
    "\n",
    "result = add(3, 4)\n",
    "print(result)\n",
    "# c:\\doit>mypy typing_sample.py\n",
    "# Success: no issues found in 1 source file\n",
    "# 파이썬 타입 어노테이션은 요새 쓰임이 점점 늘어나는 추세이다"
   ]
  },
  {
   "cell_type": "code",
   "execution_count": 12,
   "metadata": {},
   "outputs": [
    {
     "name": "stdout",
     "output_type": "stream",
     "text": [
      "\n",
      "park 800905-*******\n",
      "kim  700905-*******\n",
      "\n"
     ]
    }
   ],
   "source": [
    "# 초보\n",
    "data = \"\"\"\n",
    "park 800905-1049118\n",
    "kim  700905-1059119\n",
    "\"\"\"\n",
    "\n",
    "result = []\n",
    "for line in data.split(\"\\n\"):\n",
    "    word_result = []\n",
    "    for word in line.split(\" \"):\n",
    "        if len(word) == 14 and word[:6].isdigit() and word[7:].isdigit():\n",
    "            word = word[:6] + \"-\" + \"*******\"\n",
    "        word_result.append(word)\n",
    "    result.append(\" \".join(word_result))\n",
    "print(\"\\n\".join(result))\n"
   ]
  },
  {
   "cell_type": "code",
   "execution_count": 13,
   "metadata": {},
   "outputs": [
    {
     "name": "stdout",
     "output_type": "stream",
     "text": [
      "\n",
      "park 800905-*******\n",
      "kim  700905-*******\n",
      "\n"
     ]
    }
   ],
   "source": [
    "# 정규 표현식\n",
    "import re\n",
    "\n",
    "data = \"\"\"\n",
    "park 800905-1049118\n",
    "kim  700905-1059119\n",
    "\"\"\"\n",
    "\n",
    "pat = re.compile(\"(\\d{6})[-]\\d{7}\")\n",
    "print(pat.sub(\"\\g<1>-*******\", data))\n"
   ]
  },
  {
   "cell_type": "markdown",
   "metadata": {},
   "source": [
    "메타 문자란 원래 그 문자가 가진 뜻이 아니라 특별한 의미를 가진 문자를 말한다. 정규 표현식에 다음과 같은 메타 문자를 사용하면 특별한 의미를 갖게 된다.\n",
    "\n",
    ". ^ $ * + ? { } [ ] \\ | ( )"
   ]
  },
  {
   "cell_type": "markdown",
   "metadata": {},
   "source": [
    "[ ] 문자 - 문자 클래스\n",
    "우리가 가장 먼저 살펴볼 메타 문자는 바로 문자 클래스(character class)인 []이다. 문자 클래스로 만들어진 정규식은 ‘[’ 와 ‘]’ 사이의 문자들과 매치’라는 의미를 갖는다.\n",
    "\n",
    "문자 클래스를 만드는 메타 문자인 [ ] 사이에는 어떤 문자도 들어갈 수 있다.\n",
    "\n",
    "즉, 정규 표현식이 [abc]라면 이 표현식의 의미는 ‘a, b, c 중 한 개의 문자와 매치’를 뜻한다.\n",
    "\n",
    "[] 안의 두 문자 사이에 하이픈(-)을 사용하면 두 문자 사이의 범위를 의미한다. 예를 들어 [a-c]라는 정규 표현식은 [abc]와 동일하고 [0-5]는 [012345]와 동일하다.\n",
    "다음은 하이픈(-)을 사용한 문자 클래스의 사용 예이다.\n",
    "\n",
    "[a-zA-Z] : 모든 알파벳\n",
    "[0-9] : 모든 숫자\n",
    "\n",
    "문자 클래스([]) 안에는 어떤 문자나 메타 문자도 사용할 수 있지만, 주의해야 할 메타 문자가 1가지 있다. 그것은 바로 ^인데, 문자 클래스 안에 ^ 메타 문자를 사용할 경우에는 반대(not)라는 의미를 갖는다. 예를 들어 [^0-9]라는 정규 표현식은 숫자가 아닌 문자만 매치된다."
   ]
  },
  {
   "cell_type": "markdown",
   "metadata": {},
   "source": [
    "\\d - 숫자와 매치된다. [0-9]와 동일한 표현식이다.\n",
    "\\D - 숫자가 아닌 것과 매치된다. [^0-9]와 동일한 표현식이다.\n",
    "\\s - 화이트스페이스(whitespace) 문자와 매치된다. [ \\t\\n\\r\\f\\v]와 동일한 표현식이다. 맨 앞의 빈칸은 공백 문자(space)를 의미한다.\n",
    "\\S - 화이트스페이스 문자가 아닌 것과 매치된다. [^ \\t\\n\\r\\f\\v]와 동일한 표현식이다.\n",
    "\\w - 문자+숫자(alphanumeric)와 매치된다. [a-zA-Z0-9_]와 동일한 표현식이다.\n",
    "\\W - 문자+숫자(alphanumeric)가 아닌 문자와 매치된다. [^a-zA-Z0-9_]와 동일한 표현식이다.\n",
    "대문자로 사용된 것은 소문자의 반대 \n",
    "\n",
    ".(dot) 문자 - \\n을 제외한 모든 문자\n",
    "정규 표현식의 .(dot) 메타 문자는 줄바꿈 문자인 \\n을 제외한 모든 문자와 매치된다는 것을 의미\n",
    "정규식을 작성할 때 re.DOTALL 옵션을 주면 .(dot) 문자와 \\n 문자도 매치"
   ]
  },
  {
   "cell_type": "code",
   "execution_count": null,
   "metadata": {},
   "outputs": [],
   "source": [
    "import re\n",
    "p = re.compile('ab*')"
   ]
  },
  {
   "cell_type": "code",
   "execution_count": null,
   "metadata": {},
   "outputs": [],
   "source": [
    "m = p.match(\"python\")\n",
    "m.group()\n",
    "'python'\n",
    "m.start()\n",
    "0\n",
    "m.end()\n",
    "6\n",
    "m.span()\n",
    "(0, 6)"
   ]
  },
  {
   "cell_type": "code",
   "execution_count": 17,
   "metadata": {},
   "outputs": [
    {
     "data": {
      "text/plain": [
       "('colour socks and colour shoes', 2)"
      ]
     },
     "execution_count": 17,
     "metadata": {},
     "output_type": "execute_result"
    }
   ],
   "source": [
    "p = re.compile('(blue|white|red)')\n",
    "p.sub('colour', 'blue socks and red shoes')\n",
    "'colour socks and colour shoes'\n",
    "\n",
    "p.sub('colour', 'blue socks and red shoes', count=1)\n",
    "'colour socks and red shoes'\n",
    "\n",
    "p = re.compile('(blue|white|red)')\n",
    "p.subn( 'colour', 'blue socks and red shoes')\n",
    "('colour socks and colour shoes', 2)"
   ]
  },
  {
   "cell_type": "code",
   "execution_count": null,
   "metadata": {},
   "outputs": [],
   "source": [
    "p = re.compile(r\"(?P<name>\\w+)\\s+(?P<phone>(\\d+)[-]\\d+[-]\\d+)\")\n",
    "print(p.sub(\"\\g<2> \\g<1>\", \"park 010-1234-1234\"))\n",
    "010-1234-1234 park\n"
   ]
  }
 ],
 "metadata": {
  "kernelspec": {
   "display_name": "Python 3",
   "language": "python",
   "name": "python3"
  },
  "language_info": {
   "codemirror_mode": {
    "name": "ipython",
    "version": 3
   },
   "file_extension": ".py",
   "mimetype": "text/x-python",
   "name": "python",
   "nbconvert_exporter": "python",
   "pygments_lexer": "ipython3",
   "version": "3.11.7"
  }
 },
 "nbformat": 4,
 "nbformat_minor": 2
}
