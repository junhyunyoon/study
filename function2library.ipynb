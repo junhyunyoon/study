{
 "cells": [
  {
   "cell_type": "code",
   "execution_count": 1,
   "metadata": {},
   "outputs": [
    {
     "data": {
      "text/plain": [
       "1.2"
      ]
     },
     "execution_count": 1,
     "metadata": {},
     "output_type": "execute_result"
    }
   ],
   "source": [
    ">>> abs(3)                             # abs returns the absolute value of a number \n",
    "3\n",
    ">>> abs(-3)\n",
    "3\n",
    ">>> abs(-1.2)\n",
    "1.2\n"
   ]
  },
  {
   "cell_type": "code",
   "execution_count": 47,
   "metadata": {},
   "outputs": [
    {
     "data": {
      "text/plain": [
       "True"
      ]
     },
     "execution_count": 47,
     "metadata": {},
     "output_type": "execute_result"
    }
   ],
   "source": [
    ">>> all([1, 2, 3])"
   ]
  },
  {
   "cell_type": "code",
   "execution_count": 46,
   "metadata": {},
   "outputs": [
    {
     "data": {
      "text/plain": [
       "False"
      ]
     },
     "execution_count": 46,
     "metadata": {},
     "output_type": "execute_result"
    }
   ],
   "source": [
    ">>> all([1, 2, 3, 0])\n"
   ]
  },
  {
   "cell_type": "code",
   "execution_count": 4,
   "metadata": {},
   "outputs": [
    {
     "data": {
      "text/plain": [
       "True"
      ]
     },
     "execution_count": 4,
     "metadata": {},
     "output_type": "execute_result"
    }
   ],
   "source": [
    ">>> all([])"
   ]
  },
  {
   "cell_type": "code",
   "execution_count": 5,
   "metadata": {},
   "outputs": [
    {
     "data": {
      "text/plain": [
       "True"
      ]
     },
     "execution_count": 5,
     "metadata": {},
     "output_type": "execute_result"
    }
   ],
   "source": [
    ">>> any([1, 2, 3, 0])"
   ]
  },
  {
   "cell_type": "code",
   "execution_count": 48,
   "metadata": {},
   "outputs": [
    {
     "data": {
      "text/plain": [
       "False"
      ]
     },
     "execution_count": 48,
     "metadata": {},
     "output_type": "execute_result"
    }
   ],
   "source": [
    ">>> any([0, \"\"])"
   ]
  },
  {
   "cell_type": "code",
   "execution_count": 7,
   "metadata": {},
   "outputs": [
    {
     "data": {
      "text/plain": [
       "'가'"
      ]
     },
     "execution_count": 7,
     "metadata": {},
     "output_type": "execute_result"
    }
   ],
   "source": [
    ">>> chr(97)                                      # chr( ) returns a single character  \n",
    "'a'\n",
    ">>> chr(44032)\n",
    "'가'"
   ]
  },
  {
   "cell_type": "code",
   "execution_count": 8,
   "metadata": {},
   "outputs": [
    {
     "data": {
      "text/plain": [
       "['append', 'count', 'extend', 'index', 'insert', 'pop', Ellipsis]"
      ]
     },
     "execution_count": 8,
     "metadata": {},
     "output_type": "execute_result"
    }
   ],
   "source": [
    ">>> dir([1, 2, 3])\n",
    "['append', 'count', 'extend', 'index', 'insert', 'pop',...]"
   ]
  },
  {
   "cell_type": "code",
   "execution_count": 9,
   "metadata": {},
   "outputs": [
    {
     "data": {
      "text/plain": [
       "['__class__',\n",
       " '__class_getitem__',\n",
       " '__contains__',\n",
       " '__delattr__',\n",
       " '__delitem__',\n",
       " '__dir__',\n",
       " '__doc__',\n",
       " '__eq__',\n",
       " '__format__',\n",
       " '__ge__',\n",
       " '__getattribute__',\n",
       " '__getitem__',\n",
       " '__getstate__',\n",
       " '__gt__',\n",
       " '__hash__',\n",
       " '__init__',\n",
       " '__init_subclass__',\n",
       " '__ior__',\n",
       " '__iter__',\n",
       " '__le__',\n",
       " '__len__',\n",
       " '__lt__',\n",
       " '__ne__',\n",
       " '__new__',\n",
       " '__or__',\n",
       " '__reduce__',\n",
       " '__reduce_ex__',\n",
       " '__repr__',\n",
       " '__reversed__',\n",
       " '__ror__',\n",
       " '__setattr__',\n",
       " '__setitem__',\n",
       " '__sizeof__',\n",
       " '__str__',\n",
       " '__subclasshook__',\n",
       " 'clear',\n",
       " 'copy',\n",
       " 'fromkeys',\n",
       " 'get',\n",
       " 'items',\n",
       " 'keys',\n",
       " 'pop',\n",
       " 'popitem',\n",
       " 'setdefault',\n",
       " 'update',\n",
       " 'values']"
      ]
     },
     "execution_count": 9,
     "metadata": {},
     "output_type": "execute_result"
    }
   ],
   "source": [
    ">>> dir({'1':'a'})"
   ]
  },
  {
   "cell_type": "code",
   "execution_count": 10,
   "metadata": {},
   "outputs": [
    {
     "data": {
      "text/plain": [
       "(2, 1)"
      ]
     },
     "execution_count": 10,
     "metadata": {},
     "output_type": "execute_result"
    }
   ],
   "source": [
    ">>> divmod(7, 3)           # divmod returns a tuple of the quotient and remainder of the division"
   ]
  },
  {
   "cell_type": "code",
   "execution_count": 11,
   "metadata": {},
   "outputs": [
    {
     "name": "stdout",
     "output_type": "stream",
     "text": [
      "0 body\n",
      "1 foo\n",
      "2 bar\n"
     ]
    }
   ],
   "source": [
    " for i, name in enumerate(['body', 'foo', 'bar']):        # eumerate the names  \n",
    "...     print(i, name)"
   ]
  },
  {
   "cell_type": "code",
   "execution_count": 12,
   "metadata": {},
   "outputs": [
    {
     "data": {
      "text/plain": [
       "(1, 1)"
      ]
     },
     "execution_count": 12,
     "metadata": {},
     "output_type": "execute_result"
    }
   ],
   "source": [
    ">>> eval('1+2')                                 # eval string literal \n",
    "3\n",
    ">>> eval(\"'hi' + 'a'\")\n",
    "'hia'\n",
    ">>> eval('divmod(4, 3)')\n",
    "(1, 1)"
   ]
  },
  {
   "cell_type": "code",
   "execution_count": 13,
   "metadata": {},
   "outputs": [
    {
     "name": "stdout",
     "output_type": "stream",
     "text": [
      "[1, 2, 6]\n"
     ]
    }
   ],
   "source": [
    "# positive.py \n",
    "def positive(l): \n",
    "    result = [] \n",
    "    for i in l: \n",
    "        if i > 0: \n",
    "            result.append(i) \n",
    "    return result\n",
    "\n",
    "print(positive([1,-3,2,0,-5,6]))\n"
   ]
  },
  {
   "cell_type": "code",
   "execution_count": 14,
   "metadata": {},
   "outputs": [
    {
     "name": "stdout",
     "output_type": "stream",
     "text": [
      "[1, 2, 6]\n"
     ]
    }
   ],
   "source": [
    "# filter1.py\n",
    "def positive(x):\n",
    "    return x > 0\n",
    "\n",
    "print(list(filter(positive, [1, -3, 2, 0, -5, 6])))"
   ]
  },
  {
   "cell_type": "code",
   "execution_count": 15,
   "metadata": {},
   "outputs": [
    {
     "data": {
      "text/plain": [
       "[1, 2, 6]"
      ]
     },
     "execution_count": 15,
     "metadata": {},
     "output_type": "execute_result"
    }
   ],
   "source": [
    " list(filter(lambda x: x > 0, [1, -3, 2, 0, -5, 6]))\n",
    "[1, 2, 6]"
   ]
  },
  {
   "cell_type": "code",
   "execution_count": 16,
   "metadata": {},
   "outputs": [
    {
     "data": {
      "text/plain": [
       "'0x3'"
      ]
     },
     "execution_count": 16,
     "metadata": {},
     "output_type": "execute_result"
    }
   ],
   "source": [
    ">>> hex(234)                               # hex ()  \n",
    "'0xea'\n",
    ">>> hex(3)\n",
    "'0x3'"
   ]
  },
  {
   "cell_type": "code",
   "execution_count": 17,
   "metadata": {},
   "outputs": [
    {
     "data": {
      "text/plain": [
       "135072304"
      ]
     },
     "execution_count": 17,
     "metadata": {},
     "output_type": "execute_result"
    }
   ],
   "source": [
    ">>> a = 3\n",
    ">>> id(3)\n",
    "135072304\n",
    ">>> id(a)\n",
    "135072304\n",
    ">>> b = a\n",
    ">>> id(b)\n",
    "135072304"
   ]
  },
  {
   "cell_type": "code",
   "execution_count": null,
   "metadata": {},
   "outputs": [],
   "source": [
    ">>> a = input()\n",
    "hi\n",
    ">>> a\n",
    "'hi'\n",
    ">>> b = input(\"Enter: \")\n",
    "Enter: hi\n",
    ">>> b\n",
    "'hi'"
   ]
  },
  {
   "cell_type": "code",
   "execution_count": 19,
   "metadata": {},
   "outputs": [
    {
     "data": {
      "text/plain": [
       "3"
      ]
     },
     "execution_count": 19,
     "metadata": {},
     "output_type": "execute_result"
    }
   ],
   "source": [
    ">>> int('3')                      # int() returns an integer  \n",
    "3\n",
    ">>> int(3.4)\n",
    "3"
   ]
  },
  {
   "cell_type": "code",
   "execution_count": null,
   "metadata": {},
   "outputs": [],
   "source": [
    ">>> int('11', 2)                      # int( ) converts a string to an integer (문자열을 정수로 변환)\n",
    "3\n",
    ">>> int('1A', 16)\n",
    "26"
   ]
  },
  {
   "cell_type": "code",
   "execution_count": 20,
   "metadata": {},
   "outputs": [
    {
     "data": {
      "text/plain": [
       "True"
      ]
     },
     "execution_count": 20,
     "metadata": {},
     "output_type": "execute_result"
    }
   ],
   "source": [
    ">>> class Person: pass                # class Person is a subclass of object\n",
    "...\n",
    ">>> a = Person()\n",
    ">>> isinstance(a, Person)\n",
    "True"
   ]
  },
  {
   "cell_type": "code",
   "execution_count": 21,
   "metadata": {},
   "outputs": [
    {
     "data": {
      "text/plain": [
       "2"
      ]
     },
     "execution_count": 21,
     "metadata": {},
     "output_type": "execute_result"
    }
   ],
   "source": [
    ">>> len(\"python\")                                 # len (returns the length of a string)\n",
    "6\n",
    ">>> len([1,2,3])\n",
    "3\n",
    ">>> len((1, 'a'))\n",
    "2"
   ]
  },
  {
   "cell_type": "code",
   "execution_count": 22,
   "metadata": {},
   "outputs": [
    {
     "data": {
      "text/plain": [
       "[1, 2, 3]"
      ]
     },
     "execution_count": 22,
     "metadata": {},
     "output_type": "execute_result"
    }
   ],
   "source": [
    ">>> list(\"python\")\n",
    "['p', 'y', 't', 'h', 'o', 'n']\n",
    ">>> list((1,2,3))\n",
    "[1, 2, 3]\n"
   ]
  },
  {
   "cell_type": "code",
   "execution_count": 23,
   "metadata": {},
   "outputs": [
    {
     "data": {
      "text/plain": [
       "[1, 2, 3]"
      ]
     },
     "execution_count": 23,
     "metadata": {},
     "output_type": "execute_result"
    }
   ],
   "source": [
    ">>> a = [1, 2, 3]\n",
    ">>> b = list(a)\n",
    ">>> b\n",
    "[1, 2, 3]\n"
   ]
  },
  {
   "cell_type": "code",
   "execution_count": 25,
   "metadata": {},
   "outputs": [
    {
     "name": "stdout",
     "output_type": "stream",
     "text": [
      "[2, 4, 6, 8]\n"
     ]
    }
   ],
   "source": [
    "# two_times.py\n",
    "def two_times(numberList)        # two_times() returns a list of all the numbers in the list twice\n",
    "    result = []\n",
    "    for number in numberList:\n",
    "        result.append(number*2)\n",
    "    return result\n",
    "\n",
    "result = two_times([1, 2, 3, 4])\n",
    "print(result)\n"
   ]
  },
  {
   "cell_type": "code",
   "execution_count": 26,
   "metadata": {},
   "outputs": [
    {
     "data": {
      "text/plain": [
       "[2, 4, 6, 8]"
      ]
     },
     "execution_count": 26,
     "metadata": {},
     "output_type": "execute_result"
    }
   ],
   "source": [
    ">>> def two_times(x): \n",
    "...     return x*2\n",
    "...\n",
    ">>> list(map(two_times, [1, 2, 3, 4]))\n",
    "[2, 4, 6, 8]\n"
   ]
  },
  {
   "cell_type": "code",
   "execution_count": 27,
   "metadata": {},
   "outputs": [
    {
     "data": {
      "text/plain": [
       "[2, 4, 6, 8]"
      ]
     },
     "execution_count": 27,
     "metadata": {},
     "output_type": "execute_result"
    }
   ],
   "source": [
    ">>> list(map(lambda a: a*2, [1, 2, 3, 4]))              # lambda function  \n",
    "[2, 4, 6, 8]\n"
   ]
  },
  {
   "cell_type": "code",
   "execution_count": 28,
   "metadata": {},
   "outputs": [
    {
     "data": {
      "text/plain": [
       "'y'"
      ]
     },
     "execution_count": 28,
     "metadata": {},
     "output_type": "execute_result"
    }
   ],
   "source": [
    ">>> max([1, 2, 3])\n",
    "3\n",
    ">>> max(\"python\")\n",
    "'y'"
   ]
  },
  {
   "cell_type": "code",
   "execution_count": 29,
   "metadata": {},
   "outputs": [
    {
     "data": {
      "text/plain": [
       "'h'"
      ]
     },
     "execution_count": 29,
     "metadata": {},
     "output_type": "execute_result"
    }
   ],
   "source": [
    ">>> min([1, 2, 3])\n",
    "1\n",
    ">>> min(\"python\")\n",
    "'h'\n"
   ]
  },
  {
   "cell_type": "code",
   "execution_count": 30,
   "metadata": {},
   "outputs": [
    {
     "data": {
      "text/plain": [
       "'0o30071'"
      ]
     },
     "execution_count": 30,
     "metadata": {},
     "output_type": "execute_result"
    }
   ],
   "source": [
    ">>> oct(34)                              # oct() : 정수를 8진수 문자열로 변환     \n",
    "'0o42'\n",
    ">>> oct(12345)\n",
    "'0o30071'\n"
   ]
  },
  {
   "cell_type": "code",
   "execution_count": 31,
   "metadata": {},
   "outputs": [
    {
     "data": {
      "text/plain": [
       "44032"
      ]
     },
     "execution_count": 31,
     "metadata": {},
     "output_type": "execute_result"
    }
   ],
   "source": [
    ">>> ord('a')                                   # ord() 는 문자를 아스키코드로 변환해주는 함수 \n",
    "97\n",
    ">>> ord('가')\n",
    "44032\n"
   ]
  },
  {
   "cell_type": "code",
   "execution_count": 32,
   "metadata": {},
   "outputs": [
    {
     "data": {
      "text/plain": [
       "27"
      ]
     },
     "execution_count": 32,
     "metadata": {},
     "output_type": "execute_result"
    }
   ],
   "source": [
    ">>> pow(2, 4)                              # pow(x, y) returns the result of x to the power of y\n",
    "16\n",
    ">>> pow(3, 3)\n",
    "27\n"
   ]
  },
  {
   "cell_type": "code",
   "execution_count": 35,
   "metadata": {},
   "outputs": [
    {
     "data": {
      "text/plain": [
       "[0, -1, -2, -3, -4, -5, -6, -7, -8, -9]"
      ]
     },
     "execution_count": 35,
     "metadata": {},
     "output_type": "execute_result"
    }
   ],
   "source": [
    ">>> list(range(5))                                    # range(start, stop, step)\n",
    "[0, 1, 2, 3, 4]\n",
    ">>> list(range(5, 10))\n",
    "[5, 6, 7, 8, 9]\n",
    ">>> list(range(1, 10, 2))\n",
    "[1, 3, 5, 7, 9]\n",
    ">>> list(range(0, -10, -1))\n",
    "[0, -1, -2, -3, -4, -5, -6, -7, -8, -9]"
   ]
  },
  {
   "cell_type": "code",
   "execution_count": 37,
   "metadata": {},
   "outputs": [
    {
     "data": {
      "text/plain": [
       "5.68"
      ]
     },
     "execution_count": 37,
     "metadata": {},
     "output_type": "execute_result"
    }
   ],
   "source": [
    ">>> round(4.6)                                       # round 소수점 반올림 \n",
    "5\n",
    ">>> round(4.2)\n",
    "4\n",
    ">>> round(5.678, 2)\n",
    "5.68\n"
   ]
  },
  {
   "cell_type": "code",
   "execution_count": 38,
   "metadata": {},
   "outputs": [
    {
     "data": {
      "text/plain": [
       "[1, 2, 3]"
      ]
     },
     "execution_count": 38,
     "metadata": {},
     "output_type": "execute_result"
    }
   ],
   "source": [
    ">>> sorted([3, 1, 2])                           # sorted(): 순서대로 정리\n",
    "[1, 2, 3]\n",
    ">>> sorted(['a', 'c', 'b'])\n",
    "['a', 'b', 'c']\n",
    ">>> sorted(\"zero\")\n",
    "['e', 'o', 'r', 'z']\n",
    ">>> sorted((3, 2, 1))\n",
    "[1, 2, 3]"
   ]
  },
  {
   "cell_type": "code",
   "execution_count": 39,
   "metadata": {},
   "outputs": [
    {
     "data": {
      "text/plain": [
       "'hi'"
      ]
     },
     "execution_count": 39,
     "metadata": {},
     "output_type": "execute_result"
    }
   ],
   "source": [
    ">>> str(3)\n",
    "'3'\n",
    ">>> str('hi')\n",
    "'hi'\n"
   ]
  },
  {
   "cell_type": "code",
   "execution_count": 40,
   "metadata": {},
   "outputs": [
    {
     "data": {
      "text/plain": [
       "15"
      ]
     },
     "execution_count": 40,
     "metadata": {},
     "output_type": "execute_result"
    }
   ],
   "source": [
    ">>> sum([1,2,3])\n",
    "6\n",
    ">>> sum((4,5,6))\n",
    "15\n"
   ]
  },
  {
   "cell_type": "code",
   "execution_count": 41,
   "metadata": {},
   "outputs": [
    {
     "data": {
      "text/plain": [
       "(1, 2, 3)"
      ]
     },
     "execution_count": 41,
     "metadata": {},
     "output_type": "execute_result"
    }
   ],
   "source": [
    ">>> tuple(\"abc\")                               # tuple() : 문자열을 튜플로 변환\n",
    "('a', 'b', 'c')\n",
    ">>> tuple([1, 2, 3])\n",
    "(1, 2, 3)\n",
    ">>> tuple((1, 2, 3))\n",
    "(1, 2, 3)\n"
   ]
  },
  {
   "cell_type": "code",
   "execution_count": null,
   "metadata": {},
   "outputs": [],
   "source": [
    ">>> type(open(\"test.txt\", 'w'))\n",
    "<_io.TextIOWrapper name='test.txt' mode='w' encoding='UTF-8'>"
   ]
  },
  {
   "cell_type": "code",
   "execution_count": 45,
   "metadata": {},
   "outputs": [
    {
     "data": {
      "text/plain": [
       "[('a', 'd'), ('b', 'e'), ('c', 'f')]"
      ]
     },
     "execution_count": 45,
     "metadata": {},
     "output_type": "execute_result"
    }
   ],
   "source": [
    ">>> list(zip([1, 2, 3], [4, 5, 6]))                     # zip () : 리스트 합치기 \n",
    "[(1, 4), (2, 5), (3, 6)]\n",
    ">>> list(zip([1, 2, 3], [4, 5, 6], [7, 8, 9]))\n",
    "[(1, 4, 7), (2, 5, 8), (3, 6, 9)]\n",
    ">>> list(zip(\"abc\", \"def\"))\n",
    "[('a', 'd'), ('b', 'e'), ('c', 'f')]\n"
   ]
  },
  {
   "cell_type": "code",
   "execution_count": 3,
   "metadata": {},
   "outputs": [
    {
     "data": {
      "text/plain": [
       "477"
      ]
     },
     "execution_count": 3,
     "metadata": {},
     "output_type": "execute_result"
    }
   ],
   "source": [
    ">>> import datetime                     # Datetime module (년, 월, 일 표시)\n",
    ">>> day1 = datetime.date(2021, 12, 14)\n",
    ">>> day2 = datetime.date(2023, 4, 5)   \n",
    ">>> diff = day2 - day1\n",
    ">>> diff.days\n",
    "477\n"
   ]
  },
  {
   "cell_type": "code",
   "execution_count": null,
   "metadata": {},
   "outputs": [],
   "source": [
    ">>> day = datetime.date(2021, 12, 14)  \n",
    ">>> day.weekday()                        # weekday() returns 0 (Monday) through 6 (Sunday)\n",
    "1\n",
    ">>> day.isoweekday()                     # ISO weekday returns 1 (Monday) through 7 (Sunday)\n",
    "2\n"
   ]
  },
  {
   "cell_type": "code",
   "execution_count": null,
   "metadata": {},
   "outputs": [],
   "source": [
    ">>> import time                          # Time module (시간, 시간을 실수로 변환)\n",
    ">>> time.time()\n",
    "1684983953.5221913\n",
    "\n",
    ">>> time.localtime(time.time())     # localetime 실수를 연 월 일 시간으로 변환                          \n",
    "time.struct_time(tm_year=2023, tm_mon=5, tm_mday=21, tm_hour=16,\n",
    "    tm_min=48, tm_sec=42, tm_wday=1, tm_yday=141, tm_isdst=0)\n",
    "\n",
    ">>> time.asctime(time.localtime(time.time()))  # asctime 실수를 시간표시 방식으로 변환\n",
    "'Fri Apr 28 20:50:20 2023'\n",
    "\n",
    ">>> time.ctime()                      # ctime 실수를 시간표시 방식으로 변환 (현재 시간)\n",
    "'Fri Apr 28 20:56:31 2023'\n",
    "\n",
    ">>> import time\n",
    ">>> time.strftime('%x', time.localtime(time.time()))\n",
    "'05/25/23'\n",
    ">>> time.strftime('%c', time.localtime(time.time()))\n",
    "'Thu May 25 10:13:52 2023\n",
    "\n"
   ]
  },
  {
   "cell_type": "markdown",
   "metadata": {},
   "source": [
    "시간에 관계된 것을 표현하는 포맷 코드\n",
    "\n",
    "포맷코드\t설명\t예\n",
    "%a\t요일의 줄임말\tMon\n",
    "%A\t요일\tMonday\n",
    "%b\t달의 줄임말\tJan\n",
    "%B\t달\tJanuary\n",
    "%c\t날짜와 시간을 출력함.\tThu May 25 10:13:52 2023\n",
    "%d\t일(day)\t[01,31]\n",
    "%H\t시간(hour): 24시간 출력 형태\t[00,23]\n",
    "%I\t시간(hour): 12시간 출력 형태\t[01,12]\n",
    "%j\t1년 중 누적 날짜\t[001,366]\n",
    "%m\t달\t[01,12]\n",
    "%M\t분\t[01,59]\n",
    "%p\tAM or PM\tAM\n",
    "%S\t초\t[00,59]\n",
    "%U\t1년 중 누적 주(일요일 시작)\t[00,53]\n",
    "%w\t숫자로 된 요일\t[0(일), 6(토)]\n",
    "%W\t1년 중 누적 주(월요일 시작)\t[00,53]\n",
    "%x\t현재 설정된 지역에 기반한 날짜 출력\t05/25/23\n",
    "%X\t현재 설정된 지역에 기반한 시간 출력\t17:22:21\n",
    "%Y\t연도 출력\t2023\n",
    "%Z\t시간대 출력\t대한민국 표준시\n",
    "%%\t문자 %\t%\n",
    "%y\t세기 부분을 제외한 연도 출력\t01"
   ]
  },
  {
   "cell_type": "code",
   "execution_count": null,
   "metadata": {},
   "outputs": [],
   "source": [
    "# sleep1.py                          # sleep() : 지정된 시간동안 잠시 멈춤\n",
    "import time\n",
    "for i in range(10):\n",
    "    print(i)\n",
    "    time.sleep(1)\n"
   ]
  },
  {
   "cell_type": "code",
   "execution_count": null,
   "metadata": {},
   "outputs": [],
   "source": [
    ">>> time.localtime()\n",
    "time.struct_time(tm_year=2023, tm_mon=6, tm_mday=18, tm_hour=17, tm_min=1, tm_sec=4, tm_wday=6, tm_yday=169, tm_isdst=0)\n",
    ">>> time.asctime()\n",
    "'Sun Jun 18 17:01:09 2023'\n",
    ">>> time.strftime('%c')\n",
    "'Sun Jun 18 17:01:30 2023'\n"
   ]
  },
  {
   "cell_type": "code",
   "execution_count": 6,
   "metadata": {},
   "outputs": [
    {
     "data": {
      "text/plain": [
       "20"
      ]
     },
     "execution_count": 6,
     "metadata": {},
     "output_type": "execute_result"
    }
   ],
   "source": [
    ">>> import math                     # math 모듈\n",
    ">>> math.gcd(60, 100, 80)           # math.gcd() 정수를 사용하여 최대공약수 구하기\n",
    "20\n",
    ">>> import math\n",
    ">>> math.lcm(15, 25)                # math.lcm() 정수를 사용하여 최소공배수 구하기\n",
    "75\n"
   ]
  },
  {
   "cell_type": "code",
   "execution_count": null,
   "metadata": {},
   "outputs": [],
   "source": [
    ">>> import random                   # random() returns a float between 0.0 and 1.0 \n",
    ">>> random.random()\n",
    "0.53840103305098674\n",
    "\n",
    ">>> random.randint(1, 10)          # randint(a, b) returns an int between a and b\n",
    "6\n",
    "\n",
    ">>> random.randint(1, 55)\n",
    "43\n"
   ]
  },
  {
   "cell_type": "code",
   "execution_count": 7,
   "metadata": {},
   "outputs": [
    {
     "name": "stdout",
     "output_type": "stream",
     "text": [
      "5\n",
      "3\n",
      "2\n",
      "1\n",
      "4\n"
     ]
    }
   ],
   "source": [
    "# random_pop.py\n",
    "import random        # random_ pop 함수를 사용하기 위해 random 모듈을 임포트합니다.                        \n",
    "def random_pop(data):                     # pop() 무작위로 하나를 선택하여 꺼낸 다음 그 값을 리턴한다.\n",
    "    number = random.randint(0, len(data)-1)  # 0부터 len(data)-1까지 무작위로 나열한 값.     \n",
    "    return data.pop(number)                 # randint() 함수를 사용하여 선택한 인덱스를 사용하여 값을 꺼냄\n",
    "\n",
    "if __name__ == \"__main__\":\n",
    "    data = [1, 2, 3, 4, 5]\n",
    "    while data: \n",
    "        print(random_pop(data))             # 리스트에 있는 값을 무작위로 출력합니다.\n"
   ]
  },
  {
   "cell_type": "code",
   "execution_count": 8,
   "metadata": {},
   "outputs": [
    {
     "data": {
      "text/plain": [
       "[5, 1, 3, 4, 2]"
      ]
     },
     "execution_count": 8,
     "metadata": {},
     "output_type": "execute_result"
    }
   ],
   "source": [
    ">>> import random\n",
    ">>> data = [1, 2, 3, 4, 5]\n",
    ">>> random.sample(data, len(data))    # random.sample() 메서드는 원본 리스트를 변경하지 않습니다.\n",
    "[5, 1, 3, 4, 2]\n"
   ]
  },
  {
   "cell_type": "code",
   "execution_count": 2,
   "metadata": {},
   "outputs": [
    {
     "name": "stdout",
     "output_type": "stream",
     "text": [
      "[('한민서', '사탕'), ('황지민', '초컬릿'), ('이영철', '젤리')]\n",
      "[('한민서', '사탕'), ('황지민', '초컬릿'), ('이영철', '젤리'), ('이광수', '새우깡'), ('김승민', '새우깡')]\n"
     ]
    }
   ],
   "source": [
    "# itertools_zip.py   \n",
    "\n",
    "students = ['한민서', '황지민', '이영철', '이광수', '김승민']\n",
    "snacks = ['사탕', '초컬릿', '젤리']\n",
    "\n",
    "# students와 snacks의 요소 개수가 다르므로 더 적은 snacks의 개수만큼만 zip()으로 묶게 된다\n",
    "\n",
    "result = zip(students, snacks)  # 묶어준다.\n",
    "print(list(result))  # 묶어준 결과를 리스트로 변환해서 출력한다.\n",
    "\n",
    "# itertools_zip.py   # intertools_zip 요소 개수가 다른 리스트를 묶어주는 함수\n",
    "import itertools\n",
    "\n",
    "students = ['한민서', '황지민', '이영철', '이광수', '김승민']\n",
    "snacks = ['사탕', '초컬릿', '젤리']\n",
    "\n",
    "result = itertools.zip_longest(students, snacks, fillvalue='새우깡')  # fillvalue 인자를 추가해서 묶어준다.\n",
    "print(list(result))\n"
   ]
  },
  {
   "cell_type": "code",
   "execution_count": 1,
   "metadata": {
    "tags": []
   },
   "outputs": [],
   "source": [
    ">>> import itertools\n",
    ">>> list(itertools.permutations(['1', '2', '3'], 2))  \n",
    "# itertools.permutations() \n",
    "# permutation() 함수는 순열을 반환한다.\n",
    "\n",
    "[('1', '2'), ('1', '3'), ('2', '1'), ('2', '3'), ('3', '1'), ('3', '2')]\n",
    "\n",
    ">>> import itertools\n",
    ">>> list(itertools.combinations(['1', '2', '3'], 2))\n",
    "[('1', '2'), ('1', '3'), ('2', '3')]\n",
    "\n",
    ">>> import itertools\n",
    ">>> it = itertools.combinations(range(1, 46), 6)   # 1~45 중에서 6개 뽑기 \n",
    "\n",
    ">>> len(list(itertools.combinations(range(1, 46), 6))) \n",
    "8145060\n",
    "\n"
   ]
  },
  {
   "cell_type": "code",
   "execution_count": 2,
   "metadata": {},
   "outputs": [
    {
     "name": "stdout",
     "output_type": "stream",
     "text": [
      "15\n"
     ]
    }
   ],
   "source": [
    "def add(data):\n",
    "    result = 0\n",
    "    for i in data:\n",
    "        result += i\n",
    "    return result\n",
    "\n",
    "data = [1, 2, 3, 4, 5]\n",
    "result = add(data)\n",
    "print(result)  # 15 출력\n",
    "\n",
    "# reduce_test.py\n",
    "import functools         # reduce 함수를 사용하기 위해서는 functools 모듈을 임포트해야 합니다. \n",
    "\n",
    "data = [1, 2, 3, 4, 5]\n",
    "result = functools.reduce(lambda x, y: x + y, data) # 람다 함수를 사용하여 합을 구합니다.\n",
    "print(result)  # 15 출력\n"
   ]
  },
  {
   "cell_type": "code",
   "execution_count": null,
   "metadata": {},
   "outputs": [],
   "source": [
    "num_list = [3, 2, 8, 1, 6, 7]\n",
    "max_num = functools.reduce(lambda x, y: x if x > y else y, num_list)\n",
    "print(max_num)  # 8 출력\n",
    "\n",
    "# functools_reduce()                          !! 리스트 요소의 최소값 구하기 / 함수를 사용하여 최소값을 구합니다.\n",
    "def min_num(num_list):\n",
    "    return functools.reduce(lambda x, y: x if x < y else y, num_list)    \n",
    "\n",
    "print(min_num([3, 2, 8, 1, 6, 7]))  # 1 출력\n",
    "\n",
    "# functools_reduce() 함수를 사용하여 리스트 요소의 곱 구하기\n",
    "def multiply(num_list):\n",
    "    return functools.reduce(lambda x, y: x * y, num_list)\n",
    "\n",
    "print(multiply([3, 2, 8, 1, 6, 7]))  \n",
    "\n",
    "# functools_reduce()                          !! 리스트 요소의 평균 구하기 / 함수를 사용하여 평균을 구하기 \n",
    "\n",
    "def average(num_list):\n",
    "    return functools.reduce(lambda x, y: x + y, num_list) / len(num_list)  \n",
    "print(average([3, 2, 8, 1, 6, 7]))  # 5.5 출력\n"
   ]
  },
  {
   "cell_type": "code",
   "execution_count": null,
   "metadata": {},
   "outputs": [],
   "source": [
    "# itemgetter1.py  \n",
    "from operator import itemgetter               # itemgetter 함수를 임포트 \n",
    "students = [\n",
    "    (\"jane\", 22, 'A'),\n",
    "    (\"dave\", 32, 'B'),\n",
    "    (\"sally\", 17, 'B'),\n",
    "]\n",
    "\n",
    "result = sorted(students, key=itemgetter(1))  # 나이로 정렬\n",
    "print(result)\n",
    "\n"
   ]
  },
  {
   "cell_type": "code",
   "execution_count": 5,
   "metadata": {},
   "outputs": [
    {
     "name": "stdout",
     "output_type": "stream",
     "text": [
      "[('sally', 17, 'B'), ('jane', 22, 'A'), ('dave', 32, 'B')]\n"
     ]
    }
   ],
   "source": [
    "# itemgetter1.py\n",
    "from operator import itemgetter      # 아이템 가져오기 함수 불러오기\n",
    "\n",
    "students = [\n",
    "    (\"jane\", 22, 'A'),\n",
    "    (\"dave\", 32, 'B'),\n",
    "    (\"sally\", 17, 'B'),\n",
    "]\n",
    "\n",
    "result = sorted(students, key=itemgetter(1))           # itemgetter() 함수를 사용하여 결과를 구합니다. \n",
    "print(result)\n",
    "\n",
    "# itemgetter2.py\n",
    "from operator import itemgetter                                 # 아이템 가져오기 함수 불러오기\n",
    "\n",
    "students = [\n",
    "    {\"name\": \"jane\", \"age\": 22, \"grade\": 'A'},\n",
    "    {\"name\": \"dave\", \"age\": 32, \"grade\": 'B'},\n",
    "    {\"name\": \"sally\", \"age\": 17, \"grade\": 'B'},\n",
    "]\n",
    "\n",
    "result = sorted(students, key=itemgetter('age'))                 # 나이 기준으로 정렬\n",
    "print(result)\n"
   ]
  },
  {
   "cell_type": "code",
   "execution_count": 6,
   "metadata": {},
   "outputs": [],
   "source": [
    "# attrgetter1.py           \n",
    "from operator import attrgetter                 # 속성 추출 함수 정의\n",
    "class Student:\n",
    "    def __init__(self, name, age, grade):       # 생성자 메서드 정의   \n",
    "        self.name = name\n",
    "        self.age = age\n",
    "        self.grade = grade               \n",
    "\n",
    "students = [\n",
    "    Student('jane', 22, 'A'),\n",
    "    Student('dave', 32, 'B'),             \n",
    "    Student('sally', 17, 'B'),   \n",
    "]\n",
    "\n",
    "result = sorted(students, key=attrgetter('age')) # 정렬 기준을 지정\n"
   ]
  },
  {
   "cell_type": "code",
   "execution_count": 2,
   "metadata": {
    "tags": [
     "# 피클함수"
    ]
   },
   "outputs": [],
   "source": [
    "import pickle                            # 직렬화 모듈    \n",
    "f = open(\"test.txt\", 'wb')                \n",
    "data = {1: 'python', 2: 'you need'}     \n",
    "pickle.dump(data, f)                     # 저장  \n",
    "f.close()\n",
    "\n",
    "\n"
   ]
  },
  {
   "cell_type": "code",
   "execution_count": 3,
   "metadata": {},
   "outputs": [
    {
     "name": "stdout",
     "output_type": "stream",
     "text": [
      "{1: 'python', 2: 'you need'}\n"
     ]
    },
    {
     "data": {
      "text/plain": [
       "{2: 'you need', 1: 'python'}"
      ]
     },
     "execution_count": 3,
     "metadata": {},
     "output_type": "execute_result"
    }
   ],
   "source": [
    "import pickle                      \n",
    "f = open(\"test.txt\", 'rb')\n",
    "data = pickle.load(f)\n",
    "# print(data)\n",
    "{2:'you need', 1:'python'}\n"
   ]
  },
  {
   "cell_type": "markdown",
   "metadata": {},
   "source": [
    "함수\t설명\n",
    "os.mkdir(디렉터리)\t디렉터리를 생성한다.\n",
    "os.rmdir(디렉터리)\t디렉터리를 삭제한다. 단, 디렉터리가 비어 있어야 삭제할 수 있다.\n",
    "os.remove(파일)\t파일을 지운다.\n",
    "os.rename(src, dst)\tsrc라는 이름의 파일을 dst라는 이름으로 바꾼다.\n"
   ]
  },
  {
   "cell_type": "code",
   "execution_count": null,
   "metadata": {},
   "outputs": [],
   "source": [
    "# zipfile_test.py\n",
    "import zipfile                     # 파일 압축 모듈\n",
    "\n",
    "# 파일 합치기\n",
    "with zipfile.ZipFile('mytext.zip', 'w') as myzip:\n",
    "    myzip.write('a.txt')\n",
    "    myzip.write('b.txt')\n",
    "    myzip.write('c.txt')\n",
    "\n",
    "# 해제하기\n",
    "with zipfile.ZipFile('mytext.zip') as myzip:\n",
    "    myzip.extractall()\n",
    "    \n",
    "# 특정 파일만 해제하기\n",
    "with zipfile.ZipFile('mytext.zip') as myzip:\n",
    "    myzip.extract('a.txt')\n",
    "    \n",
    "# 압축하여 묶기\n",
    "with zipfile.ZipFile('mytext.zip', 'w', compression=zipfile.ZIP_LZMA, compresslevel=9) as myzip:\n",
    "\n",
    "# compression4가지 종류\n",
    "\"\"\" ZIP_DEFLATED: 압축된 파일을 zip으로만 묶는다. 속도가 느린다.\n",
    "ZIP_BZIP2: 압축된 파일을 zip으로만 묶는다. 속도가 느린다.\n",
    "ZIP_LZMA: 압축된 파일을 zip으로만 묶는다. 속도가 느린다.\n",
    "ZIP_STORED: 압축하지 않고 파일을 zip으로만 묶는다. 속도가 빠르다.\n",
    "ZIP_DEFLATED: 일반적인 zip 압축으로 속도가 빠르고 압축률은 낮다(호환성이 좋다).\n",
    "ZIP_BZIP2: bzip2 압축으로 압축률이 높고 속도가 느리다.\n",
    "ZIP_LZMA: lzma 압축으로 압축률이 높고 속도가 느리다(7zip과 동일한 알고리즘으로 알려져 있다). \"\"\"\n",
    "\n"
   ]
  },
  {
   "cell_type": "code",
   "execution_count": 5,
   "metadata": {},
   "outputs": [
    {
     "name": "stdout",
     "output_type": "stream",
     "text": [
      "Start\n",
      "working:0\n",
      "\n",
      "working:1\n",
      "\n",
      "working:2\n",
      "\n",
      "working:3\n",
      "\n",
      "working:4\n",
      "\n",
      "working:0\n",
      "\n",
      "working:1\n",
      "\n",
      "working:2\n",
      "\n",
      "working:3\n",
      "\n",
      "working:4\n",
      "\n",
      "working:0\n",
      "\n",
      "working:1\n",
      "\n",
      "working:2\n",
      "\n",
      "working:3\n",
      "\n",
      "working:4\n",
      "\n",
      "working:0\n",
      "\n",
      "working:1\n",
      "\n",
      "working:2\n",
      "\n",
      "working:3\n",
      "\n",
      "working:4\n",
      "\n",
      "working:0\n",
      "\n",
      "working:1\n",
      "\n",
      "working:2\n",
      "\n",
      "working:3\n",
      "\n",
      "working:4\n",
      "\n",
      "End\n"
     ]
    }
   ],
   "source": [
    "# thread_test.py\n",
    "import time\n",
    "\n",
    "def long_task():  # 5초의 시간이 걸리는 함수\n",
    "    for i in range(5):\n",
    "        time.sleep(1)  # 1초간 대기한다.\n",
    "        print(\"working:%s\\n\" % i)\n",
    "\n",
    "print(\"Start\")\n",
    "\n",
    "for i in range(5):  # long_task를 5회 수행한다.\n",
    "    long_task()\n",
    "\n",
    "print(\"End\")\n"
   ]
  },
  {
   "cell_type": "code",
   "execution_count": 6,
   "metadata": {},
   "outputs": [
    {
     "name": "stdout",
     "output_type": "stream",
     "text": [
      "Start\n",
      "End\n"
     ]
    },
    {
     "name": "stdout",
     "output_type": "stream",
     "text": [
      "working:0\n",
      "working:0\n",
      "\n",
      "working:0\n",
      "\n",
      "working:0\n",
      "\n",
      "\n",
      "working:0\n",
      "\n",
      "working:1\n",
      "working:1\n",
      "\n",
      "working:1\n",
      "\n",
      "\n",
      "working:1\n",
      "\n",
      "working:1\n",
      "\n",
      "working:2\n",
      "\n",
      "working:2\n",
      "\n",
      "working:2\n",
      "\n",
      "working:2\n",
      "\n",
      "working:2\n",
      "\n",
      "working:3\n",
      "\n",
      "working:3\n",
      "\n",
      "working:3\n",
      "\n",
      "working:3\n",
      "\n",
      "working:3\n",
      "\n",
      "working:4\n",
      "\n",
      "working:4\n",
      "\n",
      "working:4\n",
      "\n",
      "working:4\n",
      "\n",
      "working:4\n",
      "\n"
     ]
    }
   ],
   "source": [
    "# thread_test.py\n",
    "import time\n",
    "import threading  # 스레드를 생성하기 위해서는 threading 모듈이 필요하다.\n",
    "\n",
    "def long_task():\n",
    "    for i in range(5):\n",
    "        time.sleep(1)\n",
    "        print(\"working:%s\\n\" % i)\n",
    "\n",
    "print(\"Start\")\n",
    "\n",
    "threads = []\n",
    "for i in range(5):\n",
    "    t = threading.Thread(target=long_task)  # 스레드를 생성한다.\n",
    "    threads.append(t) \n",
    "\n",
    "for t in threads:\n",
    "    t.start()  # 스레드를 실행한다.\n",
    "\n",
    "print(\"End\")"
   ]
  },
  {
   "cell_type": "code",
   "execution_count": 7,
   "metadata": {},
   "outputs": [
    {
     "name": "stdout",
     "output_type": "stream",
     "text": [
      "Start\n",
      "working:0\n",
      "\n",
      "working:0\n",
      "\n",
      "working:0\n",
      "\n",
      "working:0\n",
      "\n",
      "working:0\n",
      "\n",
      "working:1\n",
      "working:1\n",
      "\n",
      "\n",
      "working:1\n",
      "\n",
      "working:1\n",
      "\n",
      "working:1\n",
      "\n",
      "working:2\n",
      "working:2\n",
      "\n",
      "\n",
      "working:2\n",
      "\n",
      "working:2\n",
      "\n",
      "working:2\n",
      "\n",
      "working:3\n",
      "working:3\n",
      "\n",
      "\n",
      "working:3\n",
      "\n",
      "working:3\n",
      "\n",
      "working:3\n",
      "\n",
      "working:4\n",
      "\n",
      "working:4\n",
      "\n",
      "working:4\n",
      "\n",
      "working:4\n",
      "\n",
      "working:4\n",
      "\n",
      "End\n"
     ]
    }
   ],
   "source": [
    "# thread_test.py\n",
    "import time\n",
    "import threading\n",
    "\n",
    "def long_task():\n",
    "    for i in range(5):\n",
    "        time.sleep(1)\n",
    "        print(\"working:%s\\n\" % i)\n",
    "\n",
    "print(\"Start\")\n",
    "\n",
    "threads = []\n",
    "for i in range(5):\n",
    "    t = threading.Thread(target=long_task)\n",
    "    threads.append(t)\n",
    "\n",
    "for t in threads:\n",
    "    t.start()\n",
    "\n",
    "for t in threads:\n",
    "    t.join()  # join으로 스레드가 종료될때까지 기다린다.\n",
    "\n",
    "print(\"End\")\n"
   ]
  },
  {
   "cell_type": "code",
   "execution_count": null,
   "metadata": {},
   "outputs": [],
   "source": [
    "import tempfile \n",
    "filename = tempfile.mkstemp()\n",
    "filename\n",
    "/users/air15/temp/~-275151-0'\n",
    "\n",
    "# The above code creates a temporary file and returns a tuple containing the file descriptor and the name of the file. \n",
    "\n",
    "import tempfile  \n",
    "f = tempfile.TemporaryFile()\n",
    "f.close()\n"
   ]
  },
  {
   "cell_type": "code",
   "execution_count": 10,
   "metadata": {},
   "outputs": [
    {
     "name": "stdout",
     "output_type": "stream",
     "text": [
      "오류가 발생했습니다.\n"
     ]
    }
   ],
   "source": [
    "# traceback_test.py\n",
    "def a():\n",
    "    return 1/0\n",
    "\n",
    "def b():\n",
    "    a()\n",
    "\n",
    "def main():\n",
    "    try:\n",
    "        b()\n",
    "    except:\n",
    "        print(\"오류가 발생했습니다.\")\n",
    "\n",
    "main()\n"
   ]
  },
  {
   "cell_type": "code",
   "execution_count": 11,
   "metadata": {},
   "outputs": [
    {
     "name": "stdout",
     "output_type": "stream",
     "text": [
      "오류가 발생했습니다.\n",
      "Traceback (most recent call last):\n",
      "  File \"/var/folders/l8/swn3f62972b2mmyms9yyzvvm0000gn/T/ipykernel_23973/3881589639.py\", line 12, in main\n",
      "    b()\n",
      "  File \"/var/folders/l8/swn3f62972b2mmyms9yyzvvm0000gn/T/ipykernel_23973/3881589639.py\", line 8, in b\n",
      "    a()\n",
      "  File \"/var/folders/l8/swn3f62972b2mmyms9yyzvvm0000gn/T/ipykernel_23973/3881589639.py\", line 5, in a\n",
      "    return 1/0\n",
      "           ~^~\n",
      "ZeroDivisionError: division by zero\n",
      "\n"
     ]
    }
   ],
   "source": [
    "# traceback_test.py\n",
    "import traceback  # 오류 정보를 출력하기 위한 모듈\n",
    "\n",
    "def a():\n",
    "    return 1/0\n",
    "\n",
    "def b():\n",
    "    a()\n",
    "\n",
    "def main():\n",
    "    try:\n",
    "        b()\n",
    "    except:\n",
    "        print(\"오류가 발생했습니다.\")\n",
    "        print(traceback.format_exc()) # 오류 발생 시 오류 정보 출력\n",
    "\n",
    "main()\n"
   ]
  },
  {
   "cell_type": "code",
   "execution_count": null,
   "metadata": {},
   "outputs": [],
   "source": [
    "import json # json 파일 읽기\n",
    "with open('myinfo.json') as f:\n",
    "     data = json.load(f)\n",
    " \n",
    "type(data)\n",
    "<class 'dict'>  # dict 타입으로 변환                                                \n",
    "data\n",
    "{'name': '홍길동', 'birth': '0525', 'age': 30}\n",
    "# 딕셔너리 안에 있는 값 출력 / JSON 파일을 읽을 때는 이 예처럼 json.load(파일_객체)를 사용한다.\n",
    "# 파일 객체는 반드시 열어야 한다.\n",
    "# 파일 객체를 열지 않으면 오류가 발생한다.\n",
    "# 이와 반대로 딕셔너리 자료형을 JSON 파일로 생성할 때는 다음처럼 json.dump(딕셔너리, 파일_객체)를 사용  "
   ]
  },
  {
   "cell_type": "code",
   "execution_count": null,
   "metadata": {},
   "outputs": [],
   "source": [
    ">>> import json\n",
    ">>> d = {\"name\":\"홍길동\", \"birth\":\"0525\", \"age\": 30}\n",
    ">>> json_data = json.dumps(d) # 딕셔너리를 json 형태로 변환\n",
    ">>> json_data\n",
    "'{\"name\": \"\\\\ud64d\\\\uae38\\\\ub3d9\", \"birth\": \"0525\", \"age\": 30}'\n",
    "\n",
    ">>> json.loads(json_data) # json문자열을 딕셔너리로 변환\n",
    "{'name': '홍길동', 'birth': '0525', 'age': 30}\n",
    "\n",
    ">>> d = {\"name\":\"홍길동\", \"birth\":\"0525\", \"age\": 30}\n",
    ">>> json_data = json.dumps(d, ensure_ascii=False) # 인코딩 설정을 해제하여 아스키 코드를 사용하지 않음 \n",
    ">>> json_data\n",
    "'{\"name\": \"홍길동\", \"birth\": \"0525\", \"age\": 30}'\n",
    ">>> json.loads(json_data)\n",
    "{'name': '홍길동', 'birth': '0525', 'age': 30}\n"
   ]
  },
  {
   "cell_type": "code",
   "execution_count": null,
   "metadata": {},
   "outputs": [],
   "source": [
    ">>> d = {\"name\":\"홍길동\", \"birth\":\"0525\", \"age\": 30}\n",
    ">>> print(json.dumps(d, indent=2, ensure_ascii=False))\n",
    "{\n",
    "  \"name\": \"홍길동\",\n",
    "  \"birth\": \"0525\",\n",
    "  \"age\": 30\n",
    "}\n",
    "# 인코딩 방식 지정\n",
    "# 인코딩 방식을 지정하지 않으면 아스키 코드로 출력�\n",
    "# 인코딩 방식을 지정하면 한글로 출력\n",
    "\n",
    ">>> json.dumps([1,2,3])\n",
    "'[1, 2, 3]'\n",
    ">>> json.dumps((4,5,6))\n",
    "'[4, 5, 6]'\n",
    "# 리스트와 튜플은 일반적인 리스트와 동일하게 출력\n",
    "\n"
   ]
  },
  {
   "cell_type": "code",
   "execution_count": 17,
   "metadata": {},
   "outputs": [],
   "source": [
    "# urllib_test.py\n",
    "import urllib.request # urllib 모드를 사용하여 파일을 다운로드하기\n",
    "\n",
    "def get_wikidocs(page):\n",
    "    resource = 'https://wikidocs.net/{}'.format(page)\n",
    "    with urllib.request.urlopen(resource) as s: # 웹 자원을 읽어온다.\n",
    "        # 읽어온 자원을 파일로 저장한다.\n",
    "        # 파일명은 wikidocs_page.html로 한다.\n",
    "        # 저장하는 모드는 wb(write binary)로 한다.\n",
    "        # 위와 같이 저장하면 한글이 깨지지 않는다.\n",
    "        # 파일명을 지정하지 않으면 자동으로 생성된다.\n",
    "        with open('wikidocs_%s.html' % page, 'wb') as f:  # 파일을 열고 읽어온다.\n",
    "            # 읽어온 자원을 파일로 저장한다.\n",
    "            # 파일명은 wikidocs_page.html로 한다.\n",
    "            # 저장하는 모드는 wb(write binary)로 한다.\n",
    "            # 위와 같이 저장하면 한글이 깨지지 않는다.\n",
    "            # 파일명을 지정하지 않으면 자동으로 생성된다.\n",
    "            f.write(s.read())\n"
   ]
  },
  {
   "cell_type": "code",
   "execution_count": 1,
   "metadata": {},
   "outputs": [
    {
     "data": {
      "text/plain": [
       "True"
      ]
     },
     "execution_count": 1,
     "metadata": {},
     "output_type": "execute_result"
    }
   ],
   "source": [
    "# webbrowser_test.py\n",
    "import webbrowser # webbrowser 모드를 사용하여 파일을 다운로드하기\n",
    "\n",
    "webbrowser.open_new('https://naver.com')\n",
    "# 웹 브라우저 실행\n"
   ]
  }
 ],
 "metadata": {
  "kernelspec": {
   "display_name": "Python 3",
   "language": "python",
   "name": "python3"
  },
  "language_info": {
   "codemirror_mode": {
    "name": "ipython",
    "version": 3
   },
   "file_extension": ".py",
   "mimetype": "text/x-python",
   "name": "python",
   "nbconvert_exporter": "python",
   "pygments_lexer": "ipython3",
   "version": "3.11.7"
  }
 },
 "nbformat": 4,
 "nbformat_minor": 2
}
