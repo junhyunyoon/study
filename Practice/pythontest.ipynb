{
 "cells": [
  {
   "cell_type": "code",
   "execution_count": null,
   "metadata": {},
   "outputs": [],
   "source": [
    "from PIL import Image\n",
    "from rembg import remove\n",
    "\n",
    "input_path = '/Users/air15/Pictures/rebimg/sleep.jpeg'\n",
    "output_path = '/Users/air15/Pictures/rebimg/sleep.png'\n",
    "inp = Image.open(input_path)\n",
    "output = remove(inp)\n",
    "output.save(output_path)"
   ]
  },
  {
   "cell_type": "code",
   "execution_count": 3,
   "metadata": {},
   "outputs": [
    {
     "name": "stderr",
     "output_type": "stream",
     "text": [
      "\u001b[0;93m2024-03-07 07:55:28.363965 [W:onnxruntime:, coreml_execution_provider.cc:81 GetCapability] CoreMLExecutionProvider::GetCapability, number of partitions supported by CoreML: 67 number of nodes in the graph: 371 number of nodes supported by CoreML: 300\u001b[m\n"
     ]
    }
   ],
   "source": [
    "from PIL import Image\n",
    "from rembg import remove\n",
    "\n",
    "input_path = '/Users/air15/Pictures/rebimg/lovely.jpeg'\n",
    "output_path = '/Users/air15/Pictures/rebimg/lovely.png'\n",
    "inp = Image.open(input_path)\n",
    "output = remove(inp)\n",
    "output.save(output_path)"
   ]
  },
  {
   "cell_type": "code",
   "execution_count": 1,
   "metadata": {},
   "outputs": [
    {
     "name": "stderr",
     "output_type": "stream",
     "text": [
      "\u001b[0;93m2024-03-07 21:03:56.806231 [W:onnxruntime:, coreml_execution_provider.cc:81 GetCapability] CoreMLExecutionProvider::GetCapability, number of partitions supported by CoreML: 67 number of nodes in the graph: 371 number of nodes supported by CoreML: 300\u001b[m\n"
     ]
    }
   ],
   "source": [
    "from PIL import Image\n",
    "from rembg import remove\n",
    "\n",
    "input_path = '/Users/air15/Pictures/rebimg/pretty.jpeg'\n",
    "output_path = '/Users/air15/Pictures/rebimg/pretty.png'\n",
    "inp = Image.open(input_path)\n",
    "output = remove(inp)\n",
    "output.save(output_path)"
   ]
  }
 ],
 "metadata": {
  "kernelspec": {
   "display_name": "py3.17",
   "language": "python",
   "name": "python3"
  },
  "language_info": {
   "codemirror_mode": {
    "name": "ipython",
    "version": 3
   },
   "file_extension": ".py",
   "mimetype": "text/x-python",
   "name": "python",
   "nbconvert_exporter": "python",
   "pygments_lexer": "ipython3",
   "version": "3.11.7"
  }
 },
 "nbformat": 4,
 "nbformat_minor": 2
}
